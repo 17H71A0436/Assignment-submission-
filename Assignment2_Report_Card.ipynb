{
  "nbformat": 4,
  "nbformat_minor": 0,
  "metadata": {
    "colab": {
      "name": "Assignment2 Report Card ",
      "provenance": []
    },
    "kernelspec": {
      "name": "python3",
      "display_name": "Python 3"
    }
  },
  "cells": [
    {
      "cell_type": "code",
      "metadata": {
        "id": "uxi4P7Pg7ViR",
        "colab": {
          "base_uri": "https://localhost:8080/"
        },
        "outputId": "8a10fdb3-2217-479f-c454-fea58e5bcc43"
      },
      "source": [
        "#Assingment 2 Question 1\n",
        "#Report card\n",
        "#each subject marks=100\n",
        "print(\"Enter id=\")\n",
        " \n",
        "id=str(input())\n",
        " \n",
        "print(\"Enter no of sub=\")\n",
        " \n",
        "no=int(input())\n",
        " \n",
        "sum=0\n",
        " \n",
        "score=(no*100)\n",
        " \n",
        "print(\"Enter all subject marks=\")\n",
        " \n",
        "for i in range(1,no+1):\n",
        " \n",
        "    marks=int(input())\n",
        " \n",
        "    sum=sum+marks\n",
        " \n",
        "avg=sum/no\n",
        " \n",
        "per=(sum/score)*100\n",
        " \n",
        "#GRADE\n",
        " \n",
        "if 85<=per<=100:\n",
        " \n",
        "    grade='A'\n",
        " \n",
        "elif 65<=per<=85:\n",
        " \n",
        "    grade='B'\n",
        " \n",
        "elif 45<=per<=65:\n",
        " \n",
        "    grade='C'\n",
        " \n",
        "elif 25<=per<=45:\n",
        " \n",
        "    grade='D'\n",
        " \n",
        "else:\n",
        " \n",
        "    grade='F'\n",
        " \n",
        "print(\"per= \",per)\n",
        " \n",
        "print(\"grade= \",grade)"
      ],
      "execution_count": 3,
      "outputs": [
        {
          "output_type": "stream",
          "text": [
            "Enter id=\n",
            "17H71A0436 \n",
            "Enter no of sub=\n",
            "5\n",
            "Enter all subject marks=\n",
            "80\n",
            "90\n",
            "70\n",
            "95\n",
            "85\n",
            "per=  84.0\n",
            "grade=  B\n"
          ],
          "name": "stdout"
        }
      ]
    }
  ]
}